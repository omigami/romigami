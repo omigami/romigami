{
 "cells": [
  {
   "cell_type": "markdown",
   "metadata": {},
   "source": [
    "# MS2DeepScore API – Quickstart\n",
    "\n",
    "*In order to use omigami, you need an access token provided by DataRevenue.*\n",
    "## Introduction\n",
    "\n",
    "This is a short guide on how you can add GNPS library matches to your mass spectra by their Tanimoto Score - using Omigami's MS2DeepScore API.\n",
    "\n",
    "The API uses a MS2DeepScore model which was trained on > 100,000 MS/MS spectra from GNPS. It prepares the input spectra and using a Siamese neural network predicts the molecular structural similarity (Tanimoto score) of the input spectra with the GNPS library spectra. It then returns you the top library matches for each of your spectra.\n",
    "\n",
    "This notebook shows you how to:\n",
    "1. Specify any MGF file with two spectra.\n",
    "2. Run a library search through the MS2DeepScore API\n",
    "3. Save the results as XLSX."
   ]
  },
  {
   "cell_type": "markdown",
   "metadata": {},
   "source": [
    "# 1. Load a MS/MS dataset (MGF format)\n",
    "\n",
    "We'll use a small MS/MS dataset in the MGF format from [here](https://gnps-external.ucsd.edu/gnpslibrary/GNPS-COLLECTIONS-MISC.mgf).\n",
    "You can also select any other from the [GNPS spectral library](https://gnps-external.ucsd.edu/gnpslibrary), or - of course - use your own.\n",
    "\n",
    "*Note that you will need the Precursor_MZ field `PEPMASS` and the abundance pairs in your MGF file.*"
   ]
  },
  {
   "cell_type": "code",
   "execution_count": 1,
   "metadata": {
    "id": "cHX57WiaVX_o"
   },
   "outputs": [],
   "source": [
    "# Load your own MS/MS dataset\n",
    "path_to_mgf <- 'GNPS-2-SPECTRA.mgf'"
   ]
  },
  {
   "cell_type": "markdown",
   "metadata": {},
   "source": [
    "# 2. Query for the best matches with MS2DeepScore\n",
    "`Romigami` is a R wrapper which instantiates a virtual environment on which to install and call the Python `Omigami` package\n",
    "\n",
    "\n",
    "`MS2DeepScore` is a python wrapper which:\n",
    "- Builds a json payload from the MGF file\n",
    "- Calls the MS2DeepScores API\n",
    "- Formats the prediction results into readable dataframes\n",
    "\n",
    "____\n",
    "`match_spectra_from_path()` takes the following arguments:\n",
    "- `n_best` sets the number of matches you'd like per spectrum (it is set to 10 by default).\n",
    "- `include_metadata` selects the metadata fields that will be displayed in the resulting top matches.\n",
    "- `ion_mode` selects the ionization mode of the measured spectra (positive or negative).\n",
    "\n",
    "In the results dataframes, the input spectra can be identified by their number in the dataframes index, which refers to their order in the MGF file.  \n",
    "*i.e.* `matches of spectrum 1` gives the spectrum_id and MS2DeepScore scores of the library spectra matches, for the first spectrum in the MGF file.\n",
    "\n",
    "For each spectrum in the MGF file, the library spectra matches are sorted according to their MS2DeepScore similarity score (best is first).   \n",
    "The following information about the predicted spectra are returned :\n",
    "- `score`, the MS2DeepScore similarity score between the input spectrum and the library spectrum\n",
    "- `matches of spectrum #`, the spectrum_ID of the matched library spectra for the spectrum number # in the MGF file\n",
    "- `metadata`, metadata fields chosen with `include_metadata` in the input"
   ]
  },
  {
   "cell_type": "code",
   "execution_count": 6,
   "metadata": {
    "id": "fLx7vmXRIjIg"
   },
   "outputs": [],
   "source": [
    "# install devtools and romigami if not already installed\n",
    "if(\"devtools\" %in% installed.packages() == FALSE) {install.packages(\"devtools\")}\n",
    "devtools::install_github(\"omigami/romigami\")\n",
    "\n",
    "# import the romigami package\n",
    "library(\"romigami\")"
   ]
  },
  {
   "cell_type": "code",
   "execution_count": 5,
   "metadata": {},
   "outputs": [],
   "source": [
    "# Initialize omigami environment\n",
    "omigami <- omigami_init()"
   ]
  },
  {
   "cell_type": "code",
   "execution_count": null,
   "metadata": {},
   "outputs": [],
   "source": [
    "# Initialize MS2DeepScore Client\n",
    "client <- omigami$MS2DeepScore(token=\"MY_TOKEN\")"
   ]
  },
  {
   "cell_type": "code",
   "execution_count": null,
   "metadata": {
    "id": "BHMpFDN2Pq8Z"
   },
   "outputs": [],
   "source": [
    "# Run MS2DeepScore Match Spectra from path \n",
    "\n",
    "spectra_matches <- client$match_spectra_from_path(\n",
    "    mgf_path = path_to_mgf, \n",
    "    n_best = 10, \n",
    "    include_metadata = list(\"Smiles\", \"Compound_name\"), \n",
    "    ion_mode = \"positive\"\n",
    ")"
   ]
  },
  {
   "cell_type": "markdown",
   "metadata": {},
   "source": [
    "## 2.1 View results\n",
    "A list of dataframes is returned. To look at a specific dataframe you can call:\n",
    "```r\n",
    "spectra_matches[i]  # 'i' refers to the ith spectrum in the MGF file input\n",
    "```"
   ]
  },
  {
   "cell_type": "code",
   "execution_count": null,
   "metadata": {},
   "outputs": [],
   "source": [
    "spectra_matches[1]"
   ]
  },
  {
   "cell_type": "markdown",
   "metadata": {},
   "source": [
    "# 3. Save results\n",
    "\n",
    "Execute the following cell to save the results in a CSV file. For readability, each dataframe is saved in its own CSV file under the `matches` directory."
   ]
  },
  {
   "cell_type": "code",
   "execution_count": 9,
   "metadata": {
    "scrolled": true
   },
   "outputs": [],
   "source": [
    "if (!dir.exists(\"matches\")){\n",
    "    dir.create(\"matches\")\n",
    "}\n",
    "for (i in seq_along(prediction)){\n",
    "    matches <- data.frame(lapply(prediction[i], as.character), stringsAsFactors=FALSE)\n",
    "    write.csv(matches, sprintf(\"matches/spectrum_%s.csv\", i))\n",
    "}"
   ]
  },
  {
   "cell_type": "markdown",
   "metadata": {},
   "source": [
    "# 4. Create Plots\n",
    "\n",
    "The following cells will show you an example of how to visualize your matches.\n",
    "## Creating a Plot of the molecular structure"
   ]
  },
  {
   "cell_type": "code",
   "execution_count": null,
   "metadata": {},
   "outputs": [],
   "source": [
    "plotter <- omigami$MoleculePlotter()\n",
    "plotter.plot_molecule_structure_grid(spectra_matches=spectra_matches[1], representation=\"smiles\", draw_indices=1, molecule_image_size=list(200, 200), substructure_highlight=1)"
   ]
  },
  {
   "cell_type": "markdown",
   "metadata": {},
   "source": [
    "## Creating a Plot using the ClassyFire API"
   ]
  },
  {
   "cell_type": "code",
   "execution_count": null,
   "metadata": {},
   "outputs": [],
   "source": [
    "plotter.plot_classyfire_result(spectra_matches=spectra_matches[1])"
   ]
  },
  {
   "cell_type": "markdown",
   "metadata": {},
   "source": [
    "## Creating a Plot using the NP-Classifier API"
   ]
  },
  {
   "cell_type": "code",
   "execution_count": null,
   "metadata": {},
   "outputs": [],
   "source": [
    "plotter.plot_NPclassifier_result(spectra_matches=spectra_matches[1], color=\"orange\")"
   ]
  },
  {
   "cell_type": "markdown",
   "metadata": {
    "id": "fxZC5erYIjIq"
   },
   "source": [
    "____"
   ]
  }
 ],
 "metadata": {
  "colab": {
   "collapsed_sections": [],
   "name": "Spec2Vec predictions API documentation.ipynb",
   "provenance": []
  },
  "kernelspec": {
   "display_name": "R",
   "language": "R",
   "name": "ir"
  },
  "language_info": {
   "codemirror_mode": "r",
   "file_extension": ".r",
   "mimetype": "text/x-r-source",
   "name": "R",
   "pygments_lexer": "r",
   "version": "4.1.0"
  }
 },
 "nbformat": 4,
 "nbformat_minor": 4
}
