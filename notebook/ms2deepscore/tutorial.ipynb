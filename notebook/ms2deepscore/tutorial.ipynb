{
 "cells": [
  {
   "cell_type": "markdown",
   "metadata": {},
   "source": [
    "# MS2DeepScore API – Quickstart\n",
    "\n",
    "*In order to use omigami, you need an access token provided by DataRevenue.*\n",
    "## Introduction\n",
    "\n",
    "This is a short guide on how you can add GNPS library matches to your mass spectra by their Tanimoto Score - using Omigami's MS2DeepScore API.\n",
    "\n",
    "The API uses a MS2DeepScore model which was trained on > 100,000 MS/MS spectra from GNPS. It prepares the input spectra and using a Siamese neural network predicts the molecular structural similarity (Tanimoto score) of the input spectra with the GNPS library spectra. It then returns you the top library matches for each of your spectra.\n",
    "\n",
    "This notebook shows you how to:\n",
    "1. Specify any MGF file with two spectra.\n",
    "2. Run a library search through the MS2DeepScore API\n",
    "3. Save the results as XLSX."
   ]
  },
  {
   "cell_type": "markdown",
   "metadata": {},
   "source": [
    "# 1. Load a MS/MS dataset (MGF format)\n",
    "\n",
    "We'll use a small MS/MS dataset in the MGF format from [here](https://gnps-external.ucsd.edu/gnpslibrary/GNPS-COLLECTIONS-MISC.mgf).\n",
    "You can also select any other from the [GNPS spectral library](https://gnps-external.ucsd.edu/gnpslibrary), or - of course - use your own.\n",
    "\n",
    "*Note that you will need the Precursor_MZ field `PEPMASS` and the abundance pairs in your MGF file.*"
   ]
  },
  {
   "cell_type": "code",
   "execution_count": 1,
   "metadata": {
    "id": "cHX57WiaVX_o"
   },
   "outputs": [],
   "source": [
    "# Load your own MS/MS dataset\n",
    "path_to_mgf <- 'GNPS-2-SPECTRA.mgf'"
   ]
  },
  {
   "cell_type": "markdown",
   "metadata": {},
   "source": [
    "# 2. Query for the best matches with MS2DeepScore\n",
    "`Romigami` is a R wrapper which instantiates a virtual environment on which to install and call the Python `Omigami` package\n",
    "\n",
    "\n",
    "`MS2DeepScore` is a python wrapper which:\n",
    "- Builds a json payload from the MGF file\n",
    "- Calls the MS2DeepScores API\n",
    "- Formats the prediction results into readable dataframes\n",
    "\n",
    "____\n",
    "`match_spectra_from_path()` takes the following arguments:\n",
    "- `n_best` sets the number of matches you'd like per spectrum (it is set to 10 by default).\n",
    "- `include_metadata` selects the metadata fields that will be displayed in the resulting top matches.\n",
    "- `ion_mode` selects the ionization mode of the measured spectra (positive or negative).\n",
    "\n",
    "In the results dataframes, the input spectra can be identified by their number in the dataframes index, which refers to their order in the MGF file.  \n",
    "*i.e.* `matches of spectrum 1` gives the spectrum_id and MS2DeepScore scores of the library spectra matches, for the first spectrum in the MGF file.\n",
    "\n",
    "For each spectrum in the MGF file, the library spectra matches are sorted according to their MS2DeepScore similarity score (best is first).   \n",
    "The following information about the predicted spectra are returned :\n",
    "- `score`, the MS2DeepScore similarity score between the input spectrum and the library spectrum\n",
    "- `matches of spectrum #`, the spectrum_ID of the matched library spectra for the spectrum number # in the MGF file\n",
    "- `metadata`, metadata fields chosen with `include_metadata` in the input"
   ]
  },
  {
   "cell_type": "code",
   "execution_count": 2,
   "metadata": {
    "id": "fLx7vmXRIjIg"
   },
   "outputs": [],
   "source": [
    "# install devtools and romigami if not already installed\n",
    "if(\"devtools\" %in% installed.packages() == FALSE) {install.packages(\"devtools\")}\n",
    "devtools::install_github(\"omigami/romigami\")\n",
    "\n",
    "# import the romigami package\n",
    "library(\"romigami\")"
   ]
  },
  {
   "cell_type": "code",
   "execution_count": 3,
   "metadata": {},
   "outputs": [],
   "source": [
    "# Initialize omigami environment\n",
    "omigami <- omigami_init()"
   ]
  },
  {
   "cell_type": "code",
   "execution_count": 4,
   "metadata": {},
   "outputs": [],
   "source": [
    "# Initialize MS2DeepScore Client\n",
    "client <- omigami$MS2DeepScore(token=\"MY_TOKEN\")"
   ]
  },
  {
   "cell_type": "code",
   "execution_count": 5,
   "metadata": {
    "id": "BHMpFDN2Pq8Z"
   },
   "outputs": [],
   "source": [
    "# Run MS2DeepScore Match Spectra from path \n",
    "\n",
    "spectra_matches <- client$match_spectra_from_path(\n",
    "    mgf_path = path_to_mgf, \n",
    "    n_best = 10, \n",
    "    include_metadata = list(\"Smiles\", \"Compound_name\"), \n",
    "    ion_mode = \"positive\"\n",
    ")"
   ]
  },
  {
   "cell_type": "markdown",
   "metadata": {},
   "source": [
    "## 2.1 View results\n",
    "A list of dataframes is returned. To look at a specific dataframe you can call:\n",
    "```r\n",
    "spectra_matches[[i]]  # 'i' refers to the ith spectrum in the MGF file input\n",
    "```"
   ]
  },
  {
   "cell_type": "code",
   "execution_count": 6,
   "metadata": {},
   "outputs": [
    {
     "data": {
      "text/html": [
       "<table class=\"dataframe\">\n",
       "<caption>A data.frame: 10 × 3</caption>\n",
       "<thead>\n",
       "\t<tr><th></th><th scope=col>score</th><th scope=col>compound_name</th><th scope=col>smiles</th></tr>\n",
       "\t<tr><th></th><th scope=col>&lt;list&gt;</th><th scope=col>&lt;chr&gt;</th><th scope=col>&lt;chr&gt;</th></tr>\n",
       "</thead>\n",
       "<tbody>\n",
       "\t<tr><th scope=row>CCMSLIB00004720008</th><td>0.895566</td><td>Triacetylresveratrol                                                                 </td><td>CC(=O)Oc1ccc(/C=C/c2cc(OC(C)=O)cc(OC(C)=O)c2)cc1                  </td></tr>\n",
       "\t<tr><th scope=row>CCMSLIB00005749695</th><td>0.8445965</td><td>19S-Methoxytubotaiwine                                                               </td><td>COC(C)C1C2N3CCC22C(NC4=CC=CC=C24)=C(C1CC3)C(=O)OC                 </td></tr>\n",
       "\t<tr><th scope=row>CCMSLIB00004720014</th><td>0.8401476</td><td>Triacetylresveratrol                                                                 </td><td>CC(=O)Oc1ccc(/C=C/c2cc(OC(C)=O)cc(OC(C)=O)c2)cc1                  </td></tr>\n",
       "\t<tr><th scope=row>CCMSLIB00005740410</th><td>0.8212357</td><td>Humantenine                                                                          </td><td>CON1C(=O)C2(CC3C4COC2CC4C(CN3C)=CC)C2=CC=CC=C12                   </td></tr>\n",
       "\t<tr><th scope=row>CCMSLIB00004702935</th><td>0.8185643</td><td>Undulatoside A                                                                       </td><td>Cc1cc(=O)c2c(O)cc(O[C@@H]3O[C@H](CO)[C@@H](O)[C@H](O)[C@H]3O)cc2o1</td></tr>\n",
       "\t<tr><th scope=row>CCMSLIB00004708920</th><td>0.7970317</td><td>2-(3,5-dihydroxy-1,4-dioxo-1,4-dihydronaphthalen-2-yl)-3-methoxy-5-methylbenzoic acid</td><td>COc1cc(C)cc(C(=O)O)c1C1=C(O)C(=O)c2c(O)cccc2C1=O                  </td></tr>\n",
       "\t<tr><th scope=row>CCMSLIB00004720104</th><td>0.795813</td><td>Undulatoside A                                                                       </td><td>Cc1cc(=O)c2c(O)cc(O[C@@H]3O[C@H](CO)[C@@H](O)[C@H](O)[C@H]3O)cc2o1</td></tr>\n",
       "\t<tr><th scope=row>CCMSLIB00004702936</th><td>0.7947617</td><td>Undulatoside A                                                                       </td><td>Cc1cc(=O)c2c(O)cc(O[C@@H]3O[C@H](CO)[C@@H](O)[C@H](O)[C@H]3O)cc2o1</td></tr>\n",
       "\t<tr><th scope=row>CCMSLIB00004708921</th><td>0.7928906</td><td>2-(3,5-dihydroxy-1,4-dioxo-1,4-dihydronaphthalen-2-yl)-3-methoxy-5-methylbenzoic acid</td><td>COc1cc(C)cc(C(=O)O)c1C1=C(O)C(=O)c2c(O)cccc2C1=O                  </td></tr>\n",
       "\t<tr><th scope=row>CCMSLIB00005778002</th><td>0.7817177</td><td>FIO00963 Neochlorogenic acid                                                         </td><td>O=C(C=Cc(c2)cc(O)c(O)c2)OC(C1)C(O)C(O)CC(O)(C(O)=O)1              </td></tr>\n",
       "</tbody>\n",
       "</table>\n"
      ],
      "text/latex": [
       "A data.frame: 10 × 3\n",
       "\\begin{tabular}{r|lll}\n",
       "  & score & compound\\_name & smiles\\\\\n",
       "  & <list> & <chr> & <chr>\\\\\n",
       "\\hline\n",
       "\tCCMSLIB00004720008 & 0.895566 & Triacetylresveratrol                                                                  & CC(=O)Oc1ccc(/C=C/c2cc(OC(C)=O)cc(OC(C)=O)c2)cc1                  \\\\\n",
       "\tCCMSLIB00005749695 & 0.8445965 & 19S-Methoxytubotaiwine                                                                & COC(C)C1C2N3CCC22C(NC4=CC=CC=C24)=C(C1CC3)C(=O)OC                 \\\\\n",
       "\tCCMSLIB00004720014 & 0.8401476 & Triacetylresveratrol                                                                  & CC(=O)Oc1ccc(/C=C/c2cc(OC(C)=O)cc(OC(C)=O)c2)cc1                  \\\\\n",
       "\tCCMSLIB00005740410 & 0.8212357 & Humantenine                                                                           & CON1C(=O)C2(CC3C4COC2CC4C(CN3C)=CC)C2=CC=CC=C12                   \\\\\n",
       "\tCCMSLIB00004702935 & 0.8185643 & Undulatoside A                                                                        & Cc1cc(=O)c2c(O)cc(O{[}C@@H{]}3O{[}C@H{]}(CO){[}C@@H{]}(O){[}C@H{]}(O){[}C@H{]}3O)cc2o1\\\\\n",
       "\tCCMSLIB00004708920 & 0.7970317 & 2-(3,5-dihydroxy-1,4-dioxo-1,4-dihydronaphthalen-2-yl)-3-methoxy-5-methylbenzoic acid & COc1cc(C)cc(C(=O)O)c1C1=C(O)C(=O)c2c(O)cccc2C1=O                  \\\\\n",
       "\tCCMSLIB00004720104 & 0.795813 & Undulatoside A                                                                        & Cc1cc(=O)c2c(O)cc(O{[}C@@H{]}3O{[}C@H{]}(CO){[}C@@H{]}(O){[}C@H{]}(O){[}C@H{]}3O)cc2o1\\\\\n",
       "\tCCMSLIB00004702936 & 0.7947617 & Undulatoside A                                                                        & Cc1cc(=O)c2c(O)cc(O{[}C@@H{]}3O{[}C@H{]}(CO){[}C@@H{]}(O){[}C@H{]}(O){[}C@H{]}3O)cc2o1\\\\\n",
       "\tCCMSLIB00004708921 & 0.7928906 & 2-(3,5-dihydroxy-1,4-dioxo-1,4-dihydronaphthalen-2-yl)-3-methoxy-5-methylbenzoic acid & COc1cc(C)cc(C(=O)O)c1C1=C(O)C(=O)c2c(O)cccc2C1=O                  \\\\\n",
       "\tCCMSLIB00005778002 & 0.7817177 & FIO00963 Neochlorogenic acid                                                          & O=C(C=Cc(c2)cc(O)c(O)c2)OC(C1)C(O)C(O)CC(O)(C(O)=O)1              \\\\\n",
       "\\end{tabular}\n"
      ],
      "text/markdown": [
       "\n",
       "A data.frame: 10 × 3\n",
       "\n",
       "| <!--/--> | score &lt;list&gt; | compound_name &lt;chr&gt; | smiles &lt;chr&gt; |\n",
       "|---|---|---|---|\n",
       "| CCMSLIB00004720008 | 0.895566 | Triacetylresveratrol                                                                  | CC(=O)Oc1ccc(/C=C/c2cc(OC(C)=O)cc(OC(C)=O)c2)cc1                   |\n",
       "| CCMSLIB00005749695 | 0.8445965 | 19S-Methoxytubotaiwine                                                                | COC(C)C1C2N3CCC22C(NC4=CC=CC=C24)=C(C1CC3)C(=O)OC                  |\n",
       "| CCMSLIB00004720014 | 0.8401476 | Triacetylresveratrol                                                                  | CC(=O)Oc1ccc(/C=C/c2cc(OC(C)=O)cc(OC(C)=O)c2)cc1                   |\n",
       "| CCMSLIB00005740410 | 0.8212357 | Humantenine                                                                           | CON1C(=O)C2(CC3C4COC2CC4C(CN3C)=CC)C2=CC=CC=C12                    |\n",
       "| CCMSLIB00004702935 | 0.8185643 | Undulatoside A                                                                        | Cc1cc(=O)c2c(O)cc(O[C@@H]3O[C@H](CO)[C@@H](O)[C@H](O)[C@H]3O)cc2o1 |\n",
       "| CCMSLIB00004708920 | 0.7970317 | 2-(3,5-dihydroxy-1,4-dioxo-1,4-dihydronaphthalen-2-yl)-3-methoxy-5-methylbenzoic acid | COc1cc(C)cc(C(=O)O)c1C1=C(O)C(=O)c2c(O)cccc2C1=O                   |\n",
       "| CCMSLIB00004720104 | 0.795813 | Undulatoside A                                                                        | Cc1cc(=O)c2c(O)cc(O[C@@H]3O[C@H](CO)[C@@H](O)[C@H](O)[C@H]3O)cc2o1 |\n",
       "| CCMSLIB00004702936 | 0.7947617 | Undulatoside A                                                                        | Cc1cc(=O)c2c(O)cc(O[C@@H]3O[C@H](CO)[C@@H](O)[C@H](O)[C@H]3O)cc2o1 |\n",
       "| CCMSLIB00004708921 | 0.7928906 | 2-(3,5-dihydroxy-1,4-dioxo-1,4-dihydronaphthalen-2-yl)-3-methoxy-5-methylbenzoic acid | COc1cc(C)cc(C(=O)O)c1C1=C(O)C(=O)c2c(O)cccc2C1=O                   |\n",
       "| CCMSLIB00005778002 | 0.7817177 | FIO00963 Neochlorogenic acid                                                          | O=C(C=Cc(c2)cc(O)c(O)c2)OC(C1)C(O)C(O)CC(O)(C(O)=O)1               |\n",
       "\n"
      ],
      "text/plain": [
       "                   score    \n",
       "CCMSLIB00004720008 0.895566 \n",
       "CCMSLIB00005749695 0.8445965\n",
       "CCMSLIB00004720014 0.8401476\n",
       "CCMSLIB00005740410 0.8212357\n",
       "CCMSLIB00004702935 0.8185643\n",
       "CCMSLIB00004708920 0.7970317\n",
       "CCMSLIB00004720104 0.795813 \n",
       "CCMSLIB00004702936 0.7947617\n",
       "CCMSLIB00004708921 0.7928906\n",
       "CCMSLIB00005778002 0.7817177\n",
       "                   compound_name                                                                        \n",
       "CCMSLIB00004720008 Triacetylresveratrol                                                                 \n",
       "CCMSLIB00005749695 19S-Methoxytubotaiwine                                                               \n",
       "CCMSLIB00004720014 Triacetylresveratrol                                                                 \n",
       "CCMSLIB00005740410 Humantenine                                                                          \n",
       "CCMSLIB00004702935 Undulatoside A                                                                       \n",
       "CCMSLIB00004708920 2-(3,5-dihydroxy-1,4-dioxo-1,4-dihydronaphthalen-2-yl)-3-methoxy-5-methylbenzoic acid\n",
       "CCMSLIB00004720104 Undulatoside A                                                                       \n",
       "CCMSLIB00004702936 Undulatoside A                                                                       \n",
       "CCMSLIB00004708921 2-(3,5-dihydroxy-1,4-dioxo-1,4-dihydronaphthalen-2-yl)-3-methoxy-5-methylbenzoic acid\n",
       "CCMSLIB00005778002 FIO00963 Neochlorogenic acid                                                         \n",
       "                   smiles                                                            \n",
       "CCMSLIB00004720008 CC(=O)Oc1ccc(/C=C/c2cc(OC(C)=O)cc(OC(C)=O)c2)cc1                  \n",
       "CCMSLIB00005749695 COC(C)C1C2N3CCC22C(NC4=CC=CC=C24)=C(C1CC3)C(=O)OC                 \n",
       "CCMSLIB00004720014 CC(=O)Oc1ccc(/C=C/c2cc(OC(C)=O)cc(OC(C)=O)c2)cc1                  \n",
       "CCMSLIB00005740410 CON1C(=O)C2(CC3C4COC2CC4C(CN3C)=CC)C2=CC=CC=C12                   \n",
       "CCMSLIB00004702935 Cc1cc(=O)c2c(O)cc(O[C@@H]3O[C@H](CO)[C@@H](O)[C@H](O)[C@H]3O)cc2o1\n",
       "CCMSLIB00004708920 COc1cc(C)cc(C(=O)O)c1C1=C(O)C(=O)c2c(O)cccc2C1=O                  \n",
       "CCMSLIB00004720104 Cc1cc(=O)c2c(O)cc(O[C@@H]3O[C@H](CO)[C@@H](O)[C@H](O)[C@H]3O)cc2o1\n",
       "CCMSLIB00004702936 Cc1cc(=O)c2c(O)cc(O[C@@H]3O[C@H](CO)[C@@H](O)[C@H](O)[C@H]3O)cc2o1\n",
       "CCMSLIB00004708921 COc1cc(C)cc(C(=O)O)c1C1=C(O)C(=O)c2c(O)cccc2C1=O                  \n",
       "CCMSLIB00005778002 O=C(C=Cc(c2)cc(O)c(O)c2)OC(C1)C(O)C(O)CC(O)(C(O)=O)1              "
      ]
     },
     "metadata": {},
     "output_type": "display_data"
    }
   ],
   "source": [
    "spectra_matches[[1]]"
   ]
  },
  {
   "cell_type": "markdown",
   "metadata": {},
   "source": [
    "# 3. Save results\n",
    "\n",
    "Execute the following cell to save the results in a CSV file. For readability, each dataframe is saved in its own CSV file under the `matches` directory."
   ]
  },
  {
   "cell_type": "code",
   "execution_count": 7,
   "metadata": {
    "scrolled": true
   },
   "outputs": [],
   "source": [
    "if (!dir.exists(\"matches\")){\n",
    "    dir.create(\"matches\")\n",
    "}\n",
    "for (i in seq_along(spectra_matches)){\n",
    "    matches <- data.frame(lapply(spectra_matches[i], as.character), stringsAsFactors=FALSE)\n",
    "    write.csv(matches, sprintf(\"matches/spectrum_%s.csv\", i))\n",
    "}"
   ]
  },
  {
   "cell_type": "markdown",
   "metadata": {},
   "source": [
    "# 4. Create Plots\n",
    "\n",
    "The following cells will show you an example of how to visualize your matches.\n",
    "## Creating a Plot of the molecular structure"
   ]
  },
  {
   "cell_type": "code",
   "execution_count": null,
   "metadata": {},
   "outputs": [],
   "source": [
    "plotter <- omigami$MoleculePlotter()\n",
    "plotter$plot_molecule_structure_grid(spectra_matches=spectra_matches[[1]], representation=\"smiles\", draw_indices=1, molecule_image_size=list(200, 200), substructure_highlight=1)"
   ]
  },
  {
   "cell_type": "markdown",
   "metadata": {},
   "source": [
    "## Creating a Plot using the ClassyFire API"
   ]
  },
  {
   "cell_type": "code",
   "execution_count": null,
   "metadata": {},
   "outputs": [],
   "source": [
    "plotter$plot_classyfire_result(spectra_matches=spectra_matches[[1]])"
   ]
  },
  {
   "cell_type": "markdown",
   "metadata": {},
   "source": [
    "## Creating a Plot using the NP-Classifier API"
   ]
  },
  {
   "cell_type": "code",
   "execution_count": null,
   "metadata": {},
   "outputs": [],
   "source": [
    "plotter$plot_NPclassifier_result(spectra_matches=spectra_matches[[1]], color=\"orange\")"
   ]
  },
  {
   "cell_type": "markdown",
   "metadata": {
    "id": "fxZC5erYIjIq"
   },
   "source": [
    "____"
   ]
  }
 ],
 "metadata": {
  "colab": {
   "collapsed_sections": [],
   "name": "Spec2Vec predictions API documentation.ipynb",
   "provenance": []
  },
  "kernelspec": {
   "display_name": "R",
   "language": "R",
   "name": "ir"
  },
  "language_info": {
   "codemirror_mode": "r",
   "file_extension": ".r",
   "mimetype": "text/x-r-source",
   "name": "R",
   "pygments_lexer": "r",
   "version": "4.1.0"
  }
 },
 "nbformat": 4,
 "nbformat_minor": 4
}
