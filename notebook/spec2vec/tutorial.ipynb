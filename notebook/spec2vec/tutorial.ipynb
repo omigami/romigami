{
 "cells": [
  {
   "cell_type": "markdown",
   "metadata": {},
   "source": [
    "# Spec2Vec API – Quickstart\n",
    "\n",
    "*In order to use omigami, you need an access token provided by DataRevenue.*\n",
    "## Introduction\n",
    "\n",
    "This is a short guide on how you can add GNPS library matches to your mass spectra - using Omigami's Spec2Vec API.\n",
    "\n",
    "The API uses a Spec2Vec model that was trained on the entire GNPS spectral library. It embeds each of your spectra into a vector space and calculates the cosine similarity to all GNPS library spectra in this vector space. It then returns you the top library matches for each of your spectra. To learn more about Spec2Vec read our gentle introduction: [Spec2Vec: The Next Step in Mass Spectral Similarity Metrics](https://www.datarevenue.com/en-blog/spec2vec-mass-spectral-similarity-metric)\n",
    "\n",
    "This notebook shows you how \n",
    "1. Specify any MGF file\n",
    "2. Run a library search through the Spec2Vec API\n",
    "3. Save the results as CSV."
   ]
  },
  {
   "cell_type": "markdown",
   "metadata": {},
   "source": [
    "# 1. (Down)load a MS/MS dataset (MGF format)\n",
    "\n",
    "We'll use a small MS/MS dataset in the MGF format from [here](https://gnps-external.ucsd.edu/gnpslibrary/GNPS-COLLECTIONS-MISC.mgf).\n",
    "You can also select any other from the [GNPS spectral library](https://gnps-external.ucsd.edu/gnpslibrary), or - of course - use your own.\n",
    "\n",
    "*Note that you will need the Precursor_MZ field `PEPMASS` and the abundance pairs in your MGF file.*"
   ]
  },
  {
   "cell_type": "code",
   "execution_count": null,
   "metadata": {},
   "outputs": [],
   "source": [
    "# Load your own MS/MS dataset (and skip the next cell)\n",
    "path_to_mgf <- '/path/to/local_dataset.mgf'"
   ]
  },
  {
   "cell_type": "code",
   "execution_count": null,
   "metadata": {},
   "outputs": [],
   "source": [
    "# OR download a small MS/MS dataset from GNPS, in the same directory as this notebook\n",
    "url = 'https://gnps-external.ucsd.edu/gnpslibrary/GNPS-COLLECTIONS-MISC.mgf'\n",
    "\n",
    "path_to_mgf = 'GNPS-COLLECTIONS-MISC.mgf' # use your prefered saving path here\n",
    "\n",
    "download.file(url, path_to_mgf, method = \"curl\")"
   ]
  },
  {
   "cell_type": "markdown",
   "metadata": {},
   "source": [
    "# 2. Query for the best matches with Spec2Vec\n",
    "\n",
    "`Romigami` is a R wrapper which instantiates a virtual environment on which to install and call the Python `Omigami` package\n",
    "\n",
    "`Spec2Vec` is a python wrapper which :\n",
    "- Builds a json payload from the MGF file\n",
    "- Calls the Spec2Vec API\n",
    "- Formats the prediction results into readable dataframes\n",
    "\n",
    "____\n",
    "- `n_best` sets the number of matches you'd like per spectrum (it is set to 10 by default).\n",
    "- `include_metadata` selects the metadata fields that will be displayed in the resulting top matches.\n",
    "- `ion_mode` selects the ionization mode of the measured spectra (positive or negative)\n",
    "\n",
    "In the results dataframes, the input spectra can be identified by their number in the dataframes index, which refers to their order in the MGF file.  \n",
    "*i.e.* `matches of spectrum 1` gives the spectrum_id and Spec2Vec scores of the library spectra matches, for the first spectrum in the MGF file.\n",
    "\n",
    "For each spectrum in the MGF file, the library spectra matches are sorted according to their Spec2Vec similarity score (best is first).   \n",
    "The following information about the predicted spectra are returned :\n",
    "- `score`, the Spec2Vec similarity score between the input spectrum and the library spectrum\n",
    "- `matches of spectrum #`, the spectrum_ID of the matched library spectra for the spectrum number # in the MGF file\n",
    "- `metadata`, metadata fields chosen with `include_metadata` in the input"
   ]
  },
  {
   "cell_type": "code",
   "execution_count": null,
   "metadata": {
    "tags": []
   },
   "outputs": [],
   "source": [
    "# # install devtools and romigami if not already installed\n",
    "if(\"devtools\" %in% installed.packages() == FALSE) {install.packages(\"devtools\")}\n",
    "devtools::install_github(\"omigami/romigami\")\n",
    "\n",
    "# import the romigami package\n",
    "library(\"romigami\")"
   ]
  },
  {
   "cell_type": "code",
   "execution_count": null,
   "metadata": {},
   "outputs": [],
   "source": [
    "# environment setup\n",
    "omigami <- omigami_init()"
   ]
  },
  {
   "cell_type": "code",
   "execution_count": null,
   "metadata": {},
   "outputs": [],
   "source": [
    "client <- omigami$Spec2Vec(token=\"MY_TOKEN\")"
   ]
  },
  {
   "cell_type": "code",
   "execution_count": null,
   "metadata": {},
   "outputs": [],
   "source": [
    "# Run Spec2Vec library search with your user token\n",
    "spectra_matches <- client$match_spectra_from_path(mgf_path = path_to_mgf,\n",
    "                            n_best = 10,\n",
    "                            include_metadata = list(\"Smiles\", \"Compound_name\"),\n",
    "                            ion_mode = \"positive\")"
   ]
  },
  {
   "cell_type": "markdown",
   "metadata": {},
   "source": [
    "## 2.1 View results\n",
    "A list of dataframes is returned. To look at a specific dataframe you can call :\n",
    "```python\n",
    "spectra_matches[i]  # 'i' refers to the ith spectrum in the MGF file input\n",
    "```"
   ]
  },
  {
   "cell_type": "code",
   "execution_count": null,
   "metadata": {
    "tags": []
   },
   "outputs": [],
   "source": [
    "spectra_matches[1]"
   ]
  },
  {
   "cell_type": "markdown",
   "metadata": {},
   "source": [
    "# 3. Save results\n",
    "\n",
    "Execute the following cell to save the results in a CSV file. For readability, each dataframe is saved in its own CSV file under the `matches` directory."
   ]
  },
  {
   "cell_type": "code",
   "execution_count": null,
   "metadata": {
    "scrolled": true
   },
   "outputs": [],
   "source": [
    "if (!dir.exists(\"matches\")){\n",
    "    dir.create(\"matches\")\n",
    "}\n",
    "for (i in seq_along(spectra_matches)){\n",
    "    matches <- data.frame(lapply(spectra_matches[i], as.character), stringsAsFactors=FALSE)\n",
    "    write.csv(matches, sprintf(\"matches/spectrum_%s.csv\", i))\n",
    "}"
   ]
  },
  {
   "cell_type": "markdown",
   "metadata": {},
   "source": [
    "\n",
    "___"
   ]
  }
 ],
 "metadata": {
  "kernelspec": {
   "display_name": "R",
   "language": "R",
   "name": "ir"
  },
  "language_info": {
   "codemirror_mode": "r",
   "file_extension": ".r",
   "mimetype": "text/x-r-source",
   "name": "R",
   "pygments_lexer": "r",
   "version": "4.1.0"
  }
 },
 "nbformat": 4,
 "nbformat_minor": 4
}
