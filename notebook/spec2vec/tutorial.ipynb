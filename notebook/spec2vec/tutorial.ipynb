{
 "cells": [
  {
   "cell_type": "markdown",
   "metadata": {},
   "source": [
    "# Spec2Vec API – Quickstart\n",
    "\n",
    "*In order to use the client, you need an access token provided by DataRevenue.*\n",
    "## Introduction\n",
    "\n",
    "This is a short guide on you can add GNPS library matches to your mass spectra - using Omigami's Spec2Vec API.\n",
    "\n",
    "The API uses a Spec2Vec model that was trained on the entire GNPS spectral library. It embeds each of your spectra into a vector space and calculates the cosine similarity to all GNPS library spectra in this vector space. It then returns you the top library matches for each of your spectra. To learn more about Spec2Vec read our gentle introduction: [Spec2Vec: The Next Step in Mass Spectral Similarity Metrics](https://www.datarevenue.com/en-blog/spec2vec-mass-spectral-similarity-metric)\n",
    "\n",
    "This notebook shows you how \n",
    "1. Specify any MGF file\n",
    "2. Run a library search through the Spec2Vec API\n",
    "3. Save the results as CSV."
   ]
  },
  {
   "cell_type": "markdown",
   "metadata": {},
   "source": [
    "# 1. (Down)load a MS/MS dataset (MGF format)\n",
    "\n",
    "We'll use a small MS/MS dataset in the MGF format from [here](https://gnps-external.ucsd.edu/gnpslibrary/GNPS-COLLECTIONS-MISC.mgf).\n",
    "You can also select any other from the [GNPS spectral library](https://gnps-external.ucsd.edu/gnpslibrary), or - of course - use your own.\n",
    "\n",
    "*Note that you will need the Precursor_MZ field `PEPMASS` and the abundance pairs in your MGF file.*"
   ]
  },
  {
   "cell_type": "code",
   "execution_count": 1,
   "metadata": {},
   "outputs": [],
   "source": [
    "# Load your own MS/MS dataset (and skip the next cell)\n",
    "path_to_mgf <- '/path/to/local_dataset.mgf'"
   ]
  },
  {
   "cell_type": "code",
   "execution_count": 2,
   "metadata": {},
   "outputs": [],
   "source": [
    "# OR download a small MS/MS dataset from GNPS, in the same directory as this notebook\n",
    "url = 'https://gnps-external.ucsd.edu/gnpslibrary/GNPS-COLLECTIONS-MISC.mgf'\n",
    "\n",
    "path_to_mgf = 'GNPS-COLLECTIONS-MISC.mgf' # use your prefered saving path here\n",
    "\n",
    "download.file(url, path_to_mgf, method = \"curl\")"
   ]
  },
  {
   "cell_type": "markdown",
   "metadata": {},
   "source": [
    "# 2. Query for the best matches with Spec2Vec\n",
    "\n",
    "`Romigami` is a R wrapper which instantiates a virtual environment on which to install and call the Python `Omigami` package\n",
    "\n",
    "`Spec2Vec` is a Python wrapper which :\n",
    "- Builds a json payload from the MGF file\n",
    "- Calls the Spec2Vec API\n",
    "- Formats the prediction results into readable dataframes\n",
    "\n",
    "____\n",
    "- `n_best` sets the number of matches you'd like per spectrum (it is set to 10 by default).\n",
    "\n",
    "In the results dataframes, the input spectra can be identified by their number in the dataframes index, which refers to their order in the MGF file.  \n",
    "*i.e.* `matches of spectrum 1` gives the spectrum_id and Spec2Vec scores of the library spectra matches, for the first spectrum in the MGF file.\n",
    "\n",
    "For each spectrum in the MGF file, the library spectra matches are sorted according to their Spec2Vec similarity score (best is first).   \n",
    "The following information about the predicted spectra are returned :\n",
    "- `score`, the Spec2Vec similarity score between the input spectrum and the library spectrum\n",
    "- `matches of spectrum #`, the spectrum_ID of the matched library spectra for the spectrum number # in the MGF file"
   ]
  },
  {
   "cell_type": "code",
   "execution_count": 3,
   "metadata": {},
   "outputs": [
    {
     "name": "stderr",
     "output_type": "stream",
     "text": [
      "Skipping install of 'romigami' from a github remote, the SHA1 (e2a38577) has not changed since last install.\n",
      "  Use `force = TRUE` to force installation\n",
      "\n"
     ]
    }
   ],
   "source": [
    "# install devtools and romigami if not already installed\n",
    "if(\"devtools\" %in% installed.packages() == FALSE) {install.packages(\"devtools\")}\n",
    "devtools::install_github(\"omigami/romigami\")\n",
    "\n",
    "# import the romigami package\n",
    "library(\"romigami\")"
   ]
  },
  {
   "cell_type": "code",
   "execution_count": 4,
   "metadata": {},
   "outputs": [
    {
     "name": "stdout",
     "output_type": "stream",
     "text": [
      "virtualenv: Romigami\n",
      "Using virtual environment '/home/rouven/.virtualenvs/Romigami' ...\n"
     ]
    }
   ],
   "source": [
    "# environment setup\n",
    "initialize_environment()"
   ]
  },
  {
   "cell_type": "code",
   "execution_count": 5,
   "metadata": {},
   "outputs": [],
   "source": [
    "# Run Spec2Vec library search with your user token\n",
    "n_best_matches <- 10\n",
    "include_metadata <- list(\"Smiles\", \"Compound_name\")\n",
    "ion_mode <- \"positive\"  # either positive or negative\n",
    "# \"https://mlops.datarevenue.com/seldon/seldon/spec2vec-{ion_mode}/api/v0.1/predictions\"\n",
    "spectra_matches <- match_spectra_from_path(token = \"xVdEbxiFgAnO8W3s2OjBCao0sDr1zZwk\",\n",
    "                                           mgf_path = path_to_mgf,\n",
    "                                           n_best = n_best_matches,\n",
    "                                           include_metadata = include_metadata,\n",
    "                                           ion_mode = ion_mode\n",
    "                                          )"
   ]
  },
  {
   "cell_type": "markdown",
   "metadata": {},
   "source": [
    "## 2.1 View results\n",
    "A list of dataframes is returned. To look at a specific dataframe you can call :\n",
    "```python\n",
    "spectra_matches[i]  # 'i' refers to the ith spectrum in the MGF file input\n",
    "```"
   ]
  },
  {
   "cell_type": "code",
   "execution_count": 6,
   "metadata": {
    "scrolled": true
   },
   "outputs": [
    {
     "data": {
      "text/html": [
       "<ol>\n",
       "\t<li><table class=\"dataframe\">\n",
       "<caption>A data.frame: 10 × 3</caption>\n",
       "<thead>\n",
       "\t<tr><th></th><th scope=col>Compound_name</th><th scope=col>Smiles</th><th scope=col>score</th></tr>\n",
       "\t<tr><th></th><th scope=col>&lt;chr&gt;</th><th scope=col>&lt;chr&gt;</th><th scope=col>&lt;list&gt;</th></tr>\n",
       "</thead>\n",
       "<tbody>\n",
       "\t<tr><th scope=row>CCMSLIB00000005869</th><td>Progesterone                                                                                                             </td><td>CC(=O)[C@H]1CC[C@@H]2[C@@]1(CC[C@H]3[C@H]2CCC4=CC(=O)CC[C@]34C)C                                                                                                                       </td><td>0.2057379</td></tr>\n",
       "\t<tr><th scope=row>CCMSLIB00000006368</th><td>Nizatidine                                                                                                               </td><td>CN/C(=C\\[N+](=O)[O-])/NCCSCC1=CSC(=N1)CN(C)C                                                                                                                                          </td><td>0.1863432</td></tr>\n",
       "\t<tr><th scope=row>CCMSLIB00000206026</th><td>Anileridine                                                                                                              </td><td>[H]N([H])c(c([H])3)c([H])c([H])c(c([H])3)C([H])([H])C([H])([H])N(C([H])([H])1)C([H])([H])C([H])([H])C(C(=O)OC([H])([H])C([H])([H])[H])(c(c([H])2)c([H])c([H])c([H])c([H])2)C([H])([H])1</td><td>0.1847168</td></tr>\n",
       "\t<tr><th scope=row>CCMSLIB00000222124</th><td>[1,3]Benzodioxolo[5,6-c]-1,3-dioxolo[4,5-i]phenanthridin-6-ol, 5b,6,7,12b,13,14-hexahydro-13-methyl-, (5bR,6S,12bS)-     </td><td>CN1CC2=C(C=CC3=C2OCO3)C4C1C5=CC6=C(C=C5CC4O)OCO6                                                                                                                                       </td><td>0.2022142</td></tr>\n",
       "\t<tr><th scope=row>CCMSLIB00000425025</th><td>Hymenamide B                                                                                                             </td><td>O=C2N5[C@H](C(=O)N1CCC[C@H]1C(=O)N[C@H](C(=O)N[C@H](C(=O)N[C@H](C(=O)N[C@H](C(=O)N[C@H]2Cc3ccccc3)CCC(=O)O)C(C)C)Cc4ccccc4)CC(=O)N)CCC5                                                </td><td>0.1794558</td></tr>\n",
       "\t<tr><th scope=row>CCMSLIB00000847644</th><td>(1R)-2-chloro-1,7-dihydroxy-3,9-dimethoxy-1-methylbenzo[c]chromene-4,6-dione                                             </td><td>COC1=CC(O)=C2C(=O)OC3=C(C2=C1)[C@@](C)(O)C(Cl)=C(OC)C3=O                                                                                                                               </td><td>0.2486994</td></tr>\n",
       "\t<tr><th scope=row>CCMSLIB00004688372</th><td>3-methyl-8,10,20,22-tetraoxa-3-azapentacyclo[15.7.0.0?,��.0?,��.0�?,��]tetracosa-1(17),5,7(11),12,18,23-hexaen-14-one    </td><td>CN1Cc2cc3c(cc2CCC(=O)c2cc4c(cc2C1)OCO4)OCO3                                                                                                                                            </td><td>0.1792837</td></tr>\n",
       "\t<tr><th scope=row>CCMSLIB00004710054</th><td>4'-ethenyl-2'-hydroxy-1,4',4a-trimethyl-5-oxospiro[2,3,4,7,8,8a-hexahydronaphthalene-6,1'-cyclopentane]-1-carboxylic acid</td><td>C=CC1(C)CC(O)C2(CCC3C(C)(C(=O)O)CCCC3(C)C2=O)C1                                                                                                                                        </td><td>0.179185</td></tr>\n",
       "\t<tr><th scope=row>CCMSLIB00004751476</th><td>Thelephoric acid                                                                                                         </td><td>O=C(C1=C2C3=C(C=C(O)C(O)=C3)O1)C4=C(OC5=C4C=C(O)C(O)=C5)C2=O                                                                                                                           </td><td>0.4527032</td></tr>\n",
       "\t<tr><th scope=row>CCMSLIB00005771122</th><td>Anileridine                                                                                                              </td><td>[H]N([H])c(c([H])3)c([H])c([H])c(c([H])3)C([H])([H])C([H])([H])N(C([H])([H])1)C([H])([H])C([H])([H])C(C(=O)OC([H])([H])C([H])([H])[H])(c(c([H])2)c([H])c([H])c([H])c([H])2)C([H])([H])1</td><td>0.1847168</td></tr>\n",
       "</tbody>\n",
       "</table>\n",
       "</li>\n",
       "</ol>\n"
      ],
      "text/latex": [
       "\\begin{enumerate}\n",
       "\\item A data.frame: 10 × 3\n",
       "\\begin{tabular}{r|lll}\n",
       "  & Compound\\_name & Smiles & score\\\\\n",
       "  & <chr> & <chr> & <list>\\\\\n",
       "\\hline\n",
       "\tCCMSLIB00000005869 & Progesterone                                                                                                              & CC(=O){[}C@H{]}1CC{[}C@@H{]}2{[}C@@{]}1(CC{[}C@H{]}3{[}C@H{]}2CCC4=CC(=O)CC{[}C@{]}34C)C                                                                                                                        & 0.2057379\\\\\n",
       "\tCCMSLIB00000006368 & Nizatidine                                                                                                                & CN/C(=C\\textbackslash{}{[}N+{]}(=O){[}O-{]})/NCCSCC1=CSC(=N1)CN(C)C                                                                                                                                           & 0.1863432\\\\\n",
       "\tCCMSLIB00000206026 & Anileridine                                                                                                               & {[}H{]}N({[}H{]})c(c({[}H{]})3)c({[}H{]})c({[}H{]})c(c({[}H{]})3)C({[}H{]})({[}H{]})C({[}H{]})({[}H{]})N(C({[}H{]})({[}H{]})1)C({[}H{]})({[}H{]})C({[}H{]})({[}H{]})C(C(=O)OC({[}H{]})({[}H{]})C({[}H{]})({[}H{]}){[}H{]})(c(c({[}H{]})2)c({[}H{]})c({[}H{]})c({[}H{]})c({[}H{]})2)C({[}H{]})({[}H{]})1 & 0.1847168\\\\\n",
       "\tCCMSLIB00000222124 & {[}1,3{]}Benzodioxolo{[}5,6-c{]}-1,3-dioxolo{[}4,5-i{]}phenanthridin-6-ol, 5b,6,7,12b,13,14-hexahydro-13-methyl-, (5bR,6S,12bS)-      & CN1CC2=C(C=CC3=C2OCO3)C4C1C5=CC6=C(C=C5CC4O)OCO6                                                                                                                                        & 0.2022142\\\\\n",
       "\tCCMSLIB00000425025 & Hymenamide B                                                                                                              & O=C2N5{[}C@H{]}(C(=O)N1CCC{[}C@H{]}1C(=O)N{[}C@H{]}(C(=O)N{[}C@H{]}(C(=O)N{[}C@H{]}(C(=O)N{[}C@H{]}(C(=O)N{[}C@H{]}2Cc3ccccc3)CCC(=O)O)C(C)C)Cc4ccccc4)CC(=O)N)CCC5                                                 & 0.1794558\\\\\n",
       "\tCCMSLIB00000847644 & (1R)-2-chloro-1,7-dihydroxy-3,9-dimethoxy-1-methylbenzo{[}c{]}chromene-4,6-dione                                              & COC1=CC(O)=C2C(=O)OC3=C(C2=C1){[}C@@{]}(C)(O)C(Cl)=C(OC)C3=O                                                                                                                                & 0.2486994\\\\\n",
       "\tCCMSLIB00004688372 & 3-methyl-8,10,20,22-tetraoxa-3-azapentacyclo{[}15.7.0.0?,��.0?,��.0�?,��{]}tetracosa-1(17),5,7(11),12,18,23-hexaen-14-one     & CN1Cc2cc3c(cc2CCC(=O)c2cc4c(cc2C1)OCO4)OCO3                                                                                                                                             & 0.1792837\\\\\n",
       "\tCCMSLIB00004710054 & 4'-ethenyl-2'-hydroxy-1,4',4a-trimethyl-5-oxospiro{[}2,3,4,7,8,8a-hexahydronaphthalene-6,1'-cyclopentane{]}-1-carboxylic acid & C=CC1(C)CC(O)C2(CCC3C(C)(C(=O)O)CCCC3(C)C2=O)C1                                                                                                                                         & 0.179185\\\\\n",
       "\tCCMSLIB00004751476 & Thelephoric acid                                                                                                          & O=C(C1=C2C3=C(C=C(O)C(O)=C3)O1)C4=C(OC5=C4C=C(O)C(O)=C5)C2=O                                                                                                                            & 0.4527032\\\\\n",
       "\tCCMSLIB00005771122 & Anileridine                                                                                                               & {[}H{]}N({[}H{]})c(c({[}H{]})3)c({[}H{]})c({[}H{]})c(c({[}H{]})3)C({[}H{]})({[}H{]})C({[}H{]})({[}H{]})N(C({[}H{]})({[}H{]})1)C({[}H{]})({[}H{]})C({[}H{]})({[}H{]})C(C(=O)OC({[}H{]})({[}H{]})C({[}H{]})({[}H{]}){[}H{]})(c(c({[}H{]})2)c({[}H{]})c({[}H{]})c({[}H{]})c({[}H{]})2)C({[}H{]})({[}H{]})1 & 0.1847168\\\\\n",
       "\\end{tabular}\n",
       "\n",
       "\\end{enumerate}\n"
      ],
      "text/markdown": [
       "1. \n",
       "A data.frame: 10 × 3\n",
       "\n",
       "| <!--/--> | Compound_name &lt;chr&gt; | Smiles &lt;chr&gt; | score &lt;list&gt; |\n",
       "|---|---|---|---|\n",
       "| CCMSLIB00000005869 | Progesterone                                                                                                              | CC(=O)[C@H]1CC[C@@H]2[C@@]1(CC[C@H]3[C@H]2CCC4=CC(=O)CC[C@]34C)C                                                                                                                        | 0.2057379 |\n",
       "| CCMSLIB00000006368 | Nizatidine                                                                                                                | CN/C(=C\\[N+](=O)[O-])/NCCSCC1=CSC(=N1)CN(C)C                                                                                                                                           | 0.1863432 |\n",
       "| CCMSLIB00000206026 | Anileridine                                                                                                               | [H]N([H])c(c([H])3)c([H])c([H])c(c([H])3)C([H])([H])C([H])([H])N(C([H])([H])1)C([H])([H])C([H])([H])C(C(=O)OC([H])([H])C([H])([H])[H])(c(c([H])2)c([H])c([H])c([H])c([H])2)C([H])([H])1 | 0.1847168 |\n",
       "| CCMSLIB00000222124 | [1,3]Benzodioxolo[5,6-c]-1,3-dioxolo[4,5-i]phenanthridin-6-ol, 5b,6,7,12b,13,14-hexahydro-13-methyl-, (5bR,6S,12bS)-      | CN1CC2=C(C=CC3=C2OCO3)C4C1C5=CC6=C(C=C5CC4O)OCO6                                                                                                                                        | 0.2022142 |\n",
       "| CCMSLIB00000425025 | Hymenamide B                                                                                                              | O=C2N5[C@H](C(=O)N1CCC[C@H]1C(=O)N[C@H](C(=O)N[C@H](C(=O)N[C@H](C(=O)N[C@H](C(=O)N[C@H]2Cc3ccccc3)CCC(=O)O)C(C)C)Cc4ccccc4)CC(=O)N)CCC5                                                 | 0.1794558 |\n",
       "| CCMSLIB00000847644 | (1R)-2-chloro-1,7-dihydroxy-3,9-dimethoxy-1-methylbenzo[c]chromene-4,6-dione                                              | COC1=CC(O)=C2C(=O)OC3=C(C2=C1)[C@@](C)(O)C(Cl)=C(OC)C3=O                                                                                                                                | 0.2486994 |\n",
       "| CCMSLIB00004688372 | 3-methyl-8,10,20,22-tetraoxa-3-azapentacyclo[15.7.0.0?,��.0?,��.0�?,��]tetracosa-1(17),5,7(11),12,18,23-hexaen-14-one     | CN1Cc2cc3c(cc2CCC(=O)c2cc4c(cc2C1)OCO4)OCO3                                                                                                                                             | 0.1792837 |\n",
       "| CCMSLIB00004710054 | 4'-ethenyl-2'-hydroxy-1,4',4a-trimethyl-5-oxospiro[2,3,4,7,8,8a-hexahydronaphthalene-6,1'-cyclopentane]-1-carboxylic acid | C=CC1(C)CC(O)C2(CCC3C(C)(C(=O)O)CCCC3(C)C2=O)C1                                                                                                                                         | 0.179185 |\n",
       "| CCMSLIB00004751476 | Thelephoric acid                                                                                                          | O=C(C1=C2C3=C(C=C(O)C(O)=C3)O1)C4=C(OC5=C4C=C(O)C(O)=C5)C2=O                                                                                                                            | 0.4527032 |\n",
       "| CCMSLIB00005771122 | Anileridine                                                                                                               | [H]N([H])c(c([H])3)c([H])c([H])c(c([H])3)C([H])([H])C([H])([H])N(C([H])([H])1)C([H])([H])C([H])([H])C(C(=O)OC([H])([H])C([H])([H])[H])(c(c([H])2)c([H])c([H])c([H])c([H])2)C([H])([H])1 | 0.1847168 |\n",
       "\n",
       "\n",
       "\n",
       "\n"
      ],
      "text/plain": [
       "[[1]]\n",
       "                                                                                                                               Compound_name\n",
       "CCMSLIB00000005869                                                                                                              Progesterone\n",
       "CCMSLIB00000006368                                                                                                                Nizatidine\n",
       "CCMSLIB00000206026                                                                                                               Anileridine\n",
       "CCMSLIB00000222124      [1,3]Benzodioxolo[5,6-c]-1,3-dioxolo[4,5-i]phenanthridin-6-ol, 5b,6,7,12b,13,14-hexahydro-13-methyl-, (5bR,6S,12bS)-\n",
       "CCMSLIB00000425025                                                                                                              Hymenamide B\n",
       "CCMSLIB00000847644                                              (1R)-2-chloro-1,7-dihydroxy-3,9-dimethoxy-1-methylbenzo[c]chromene-4,6-dione\n",
       "CCMSLIB00004688372     3-methyl-8,10,20,22-tetraoxa-3-azapentacyclo[15.7.0.0?,��.0?,��.0�?,��]tetracosa-1(17),5,7(11),12,18,23-hexaen-14-one\n",
       "CCMSLIB00004710054 4'-ethenyl-2'-hydroxy-1,4',4a-trimethyl-5-oxospiro[2,3,4,7,8,8a-hexahydronaphthalene-6,1'-cyclopentane]-1-carboxylic acid\n",
       "CCMSLIB00004751476                                                                                                          Thelephoric acid\n",
       "CCMSLIB00005771122                                                                                                               Anileridine\n",
       "                                                                                                                                                                                                    Smiles\n",
       "CCMSLIB00000005869                                                                                                                        CC(=O)[C@H]1CC[C@@H]2[C@@]1(CC[C@H]3[C@H]2CCC4=CC(=O)CC[C@]34C)C\n",
       "CCMSLIB00000006368                                                                                                                                           CN/C(=C\\\\[N+](=O)[O-])/NCCSCC1=CSC(=N1)CN(C)C\n",
       "CCMSLIB00000206026 [H]N([H])c(c([H])3)c([H])c([H])c(c([H])3)C([H])([H])C([H])([H])N(C([H])([H])1)C([H])([H])C([H])([H])C(C(=O)OC([H])([H])C([H])([H])[H])(c(c([H])2)c([H])c([H])c([H])c([H])2)C([H])([H])1\n",
       "CCMSLIB00000222124                                                                                                                                        CN1CC2=C(C=CC3=C2OCO3)C4C1C5=CC6=C(C=C5CC4O)OCO6\n",
       "CCMSLIB00000425025                                                 O=C2N5[C@H](C(=O)N1CCC[C@H]1C(=O)N[C@H](C(=O)N[C@H](C(=O)N[C@H](C(=O)N[C@H](C(=O)N[C@H]2Cc3ccccc3)CCC(=O)O)C(C)C)Cc4ccccc4)CC(=O)N)CCC5\n",
       "CCMSLIB00000847644                                                                                                                                COC1=CC(O)=C2C(=O)OC3=C(C2=C1)[C@@](C)(O)C(Cl)=C(OC)C3=O\n",
       "CCMSLIB00004688372                                                                                                                                             CN1Cc2cc3c(cc2CCC(=O)c2cc4c(cc2C1)OCO4)OCO3\n",
       "CCMSLIB00004710054                                                                                                                                         C=CC1(C)CC(O)C2(CCC3C(C)(C(=O)O)CCCC3(C)C2=O)C1\n",
       "CCMSLIB00004751476                                                                                                                            O=C(C1=C2C3=C(C=C(O)C(O)=C3)O1)C4=C(OC5=C4C=C(O)C(O)=C5)C2=O\n",
       "CCMSLIB00005771122 [H]N([H])c(c([H])3)c([H])c([H])c(c([H])3)C([H])([H])C([H])([H])N(C([H])([H])1)C([H])([H])C([H])([H])C(C(=O)OC([H])([H])C([H])([H])[H])(c(c([H])2)c([H])c([H])c([H])c([H])2)C([H])([H])1\n",
       "                       score\n",
       "CCMSLIB00000005869 0.2057379\n",
       "CCMSLIB00000006368 0.1863432\n",
       "CCMSLIB00000206026 0.1847168\n",
       "CCMSLIB00000222124 0.2022142\n",
       "CCMSLIB00000425025 0.1794558\n",
       "CCMSLIB00000847644 0.2486994\n",
       "CCMSLIB00004688372 0.1792837\n",
       "CCMSLIB00004710054  0.179185\n",
       "CCMSLIB00004751476 0.4527032\n",
       "CCMSLIB00005771122 0.1847168\n"
      ]
     },
     "metadata": {},
     "output_type": "display_data"
    }
   ],
   "source": [
    "spectra_matches[1]"
   ]
  },
  {
   "cell_type": "markdown",
   "metadata": {},
   "source": [
    "# 3. Save results\n",
    "\n",
    "Execute the following cell to save the results in a CSV file. For readability, each dataframe is saved in its own CSV file under the `matches` directory."
   ]
  },
  {
   "cell_type": "code",
   "execution_count": 7,
   "metadata": {
    "scrolled": true
   },
   "outputs": [],
   "source": [
    "if (!dir.exists(\"matches\")){\n",
    "    dir.create(\"matches\")\n",
    "}\n",
    "for (i in seq_along(spectra_matches)){\n",
    "    matches <- data.frame(lapply(spectra_matches[i], as.character), stringsAsFactors=FALSE)\n",
    "    write.csv(matches, sprintf(\"matches/spectrum_%s.csv\", i))\n",
    "}"
   ]
  },
  {
   "cell_type": "markdown",
   "metadata": {},
   "source": [
    "# 4. Create Plots\n",
    "The following cell will show you an example of how to visualize your matches.\n",
    "\n",
    "\n",
    "### Creating a Plot of the molecular structure\n"
   ]
  },
  {
   "cell_type": "code",
   "execution_count": null,
   "metadata": {},
   "outputs": [],
   "source": [
    "plot_molecule_structure_grid(spectra_matches=spectra_matches[0], representation=\"smiles\", draw_indices=1, molecule_image_size=list(200, 200), substructure_highlight=1)"
   ]
  },
  {
   "cell_type": "markdown",
   "metadata": {},
   "source": [
    "###  Creating a Plot using the ClassyFire API"
   ]
  },
  {
   "cell_type": "code",
   "execution_count": null,
   "metadata": {},
   "outputs": [],
   "source": [
    "plot_classyfire_result(spectra_matches=spectra_matches[0])"
   ]
  },
  {
   "cell_type": "markdown",
   "metadata": {},
   "source": [
    "### Creating a Plot using the NP-Classifier API"
   ]
  },
  {
   "cell_type": "code",
   "execution_count": null,
   "metadata": {},
   "outputs": [],
   "source": [
    "plot_NPclassifier_result(spectra_matches=spectra_matches[0], color=\"orange\")"
   ]
  },
  {
   "cell_type": "markdown",
   "metadata": {},
   "source": [
    "\n",
    "___"
   ]
  }
 ],
 "metadata": {
  "kernelspec": {
   "display_name": "R",
   "language": "R",
   "name": "ir"
  },
  "language_info": {
   "codemirror_mode": "r",
   "file_extension": ".r",
   "mimetype": "text/x-r-source",
   "name": "R",
   "pygments_lexer": "r",
   "version": "4.1.0"
  }
 },
 "nbformat": 4,
 "nbformat_minor": 4
}
