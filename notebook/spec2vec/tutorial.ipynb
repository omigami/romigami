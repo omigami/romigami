{
 "cells": [
  {
   "cell_type": "markdown",
   "metadata": {},
   "source": [
    "# Spec2Vec API – Quickstart\n",
    "\n",
    "*In order to use omigami, you need an access token provided by DataRevenue.*\n",
    "## Introduction\n",
    "\n",
    "This is a short guide on how you can add GNPS library matches to your mass spectra - using Omigami's Spec2Vec API.\n",
    "\n",
    "The API uses a Spec2Vec model that was trained on the entire GNPS spectral library. It embeds each of your spectra into a vector space and calculates the cosine similarity to all GNPS library spectra in this vector space. It then returns you the top library matches for each of your spectra. To learn more about Spec2Vec read our gentle introduction: [Spec2Vec: The Next Step in Mass Spectral Similarity Metrics](https://www.datarevenue.com/en-blog/spec2vec-mass-spectral-similarity-metric)\n",
    "\n",
    "This notebook shows you how \n",
    "1. Specify any MGF file\n",
    "2. Run a library search through the Spec2Vec API\n",
    "3. Save the results as CSV."
   ]
  },
  {
   "cell_type": "markdown",
   "metadata": {},
   "source": [
    "# 1. (Down)load a MS/MS dataset (MGF format)\n",
    "\n",
    "We'll use a small MS/MS dataset in the MGF format from [here](https://gnps-external.ucsd.edu/gnpslibrary/GNPS-COLLECTIONS-MISC.mgf).\n",
    "You can also select any other from the [GNPS spectral library](https://gnps-external.ucsd.edu/gnpslibrary), or - of course - use your own.\n",
    "\n",
    "*Note that you will need the Precursor_MZ field `PEPMASS` and the abundance pairs in your MGF file.*"
   ]
  },
  {
   "cell_type": "code",
   "execution_count": 1,
   "metadata": {},
   "outputs": [],
   "source": [
    "# Load your own MS/MS dataset (and skip the next cell)\n",
    "path_to_mgf <- '/path/to/local_dataset.mgf'"
   ]
  },
  {
   "cell_type": "code",
   "execution_count": 2,
   "metadata": {},
   "outputs": [],
   "source": [
    "# OR download a small MS/MS dataset from GNPS, in the same directory as this notebook\n",
    "url <- 'https://gnps-external.ucsd.edu/gnpslibrary/GNPS-COLLECTIONS-MISC.mgf'\n",
    "\n",
    "path_to_mgf <- 'GNPS-COLLECTIONS-MISC.mgf' # use your prefered saving path here\n",
    "\n",
    "download.file(url, path_to_mgf, method = \"curl\")"
   ]
  },
  {
   "cell_type": "markdown",
   "metadata": {},
   "source": [
    "# 2. Query for the best matches with Spec2Vec\n",
    "\n",
    "`Romigami` is a R wrapper which instantiates a virtual environment on which to install and call the Python `Omigami` package\n",
    "\n",
    "`Spec2Vec` is a python wrapper which :\n",
    "- Builds a json payload from the MGF file\n",
    "- Calls the Spec2Vec API\n",
    "- Formats the prediction results into readable dataframes\n",
    "\n",
    "____\n",
    "`match_spectra_from_path()` takes the following arguments:\n",
    "- `n_best` sets the number of matches you'd like per spectrum (it is set to 10 by default).\n",
    "- `include_metadata` selects the metadata fields that will be displayed in the resulting top matches.\n",
    "- `ion_mode` selects the ionization mode of the measured spectra (positive or negative)\n",
    "\n",
    "In the results dataframes, the input spectra can be identified by their number in the dataframes index, which refers to their order in the MGF file.  \n",
    "*i.e.* `matches of spectrum 1` gives the spectrum_id and Spec2Vec scores of the library spectra matches, for the first spectrum in the MGF file.\n",
    "\n",
    "For each spectrum in the MGF file, the library spectra matches are sorted according to their Spec2Vec similarity score (best is first).   \n",
    "The following information about the predicted spectra are returned :\n",
    "- `score`, the Spec2Vec similarity score between the input spectrum and the library spectrum\n",
    "- `matches of spectrum #`, the spectrum_ID of the matched library spectra for the spectrum number # in the MGF file\n",
    "- `metadata`, metadata fields chosen with `include_metadata` in the input"
   ]
  },
  {
   "cell_type": "code",
   "execution_count": 3,
   "metadata": {
    "scrolled": true,
    "tags": []
   },
   "outputs": [],
   "source": [
    "# # install devtools and romigami if not already installed\n",
    "if(\"devtools\" %in% installed.packages() == FALSE) {install.packages(\"devtools\")}\n",
    "devtools::install_github(\"omigami/romigami\")\n",
    "\n",
    "# import the romigami package\n",
    "library(\"romigami\")"
   ]
  },
  {
   "cell_type": "code",
   "execution_count": 4,
   "metadata": {},
   "outputs": [],
   "source": [
    "# environment setup\n",
    "omigami <- omigami_init()"
   ]
  },
  {
   "cell_type": "code",
   "execution_count": 5,
   "metadata": {},
   "outputs": [],
   "source": [
    "client <- omigami$Spec2Vec(token=\"MY_TOKEN\")"
   ]
  },
  {
   "cell_type": "code",
   "execution_count": 6,
   "metadata": {},
   "outputs": [],
   "source": [
    "# Run Spec2Vec library search with your user token\n",
    "spectra_matches <- client$match_spectra_from_path(\n",
    "    mgf_path = path_to_mgf,\n",
    "    n_best = 10,\n",
    "    include_metadata = list(\"Smiles\", \"Compound_name\"),\n",
    "    ion_mode = \"positive\"\n",
    ")"
   ]
  },
  {
   "cell_type": "markdown",
   "metadata": {},
   "source": [
    "## 2.1 View results\n",
    "A list of dataframes is returned. To look at a specific dataframe you can call:\n",
    "```r\n",
    "spectra_matches[[i]]  # 'i' refers to the ith spectrum in the MGF file input\n",
    "```"
   ]
  },
  {
   "cell_type": "code",
   "execution_count": 7,
   "metadata": {
    "tags": []
   },
   "outputs": [
    {
     "data": {
      "text/html": [
       "<table class=\"dataframe\">\n",
       "<caption>A data.frame: 10 × 3</caption>\n",
       "<thead>\n",
       "\t<tr><th></th><th scope=col>score</th><th scope=col>compound_name</th><th scope=col>smiles</th></tr>\n",
       "\t<tr><th></th><th scope=col>&lt;list&gt;</th><th scope=col>&lt;chr&gt;</th><th scope=col>&lt;chr&gt;</th></tr>\n",
       "</thead>\n",
       "<tbody>\n",
       "\t<tr><th scope=row>CCMSLIB00004751476</th><td>0.3307738</td><td>Thelephoric acid             </td><td>O=C(C1=C2C3=C(C=C(O)C(O)=C3)O1)C4=C(OC5=C4C=C(O)C(O)=C5)C2=O</td></tr>\n",
       "\t<tr><th scope=row>CCMSLIB00006415274</th><td>0.2610556</td><td>2,3-dihydroxypropyl palmitate</td><td>O=C(OCC(O)CO)CCCCCCCCCCCCCCC                                </td></tr>\n",
       "\t<tr><th scope=row>CCMSLIB00006415154</th><td>0.259576</td><td>2,3-dihydroxypropyl palmitate</td><td>O=C(OCC(O)CO)CCCCCCCCCCCCCCC                                </td></tr>\n",
       "\t<tr><th scope=row>CCMSLIB00006415037</th><td>0.2516562</td><td>2,3-dihydroxypropyl palmitate</td><td>O=C(OCC(O)CO)CCCCCCCCCCCCCCC                                </td></tr>\n",
       "\t<tr><th scope=row>CCMSLIB00006415250</th><td>0.251224</td><td>2,3-dihydroxypropyl palmitate</td><td>O=C(OCC(O)CO)CCCCCCCCCCCCCCC                                </td></tr>\n",
       "\t<tr><th scope=row>CCMSLIB00006415298</th><td>0.2501113</td><td>2,3-dihydroxypropyl palmitate</td><td>O=C(OCC(O)CO)CCCCCCCCCCCCCCC                                </td></tr>\n",
       "\t<tr><th scope=row>CCMSLIB00006415131</th><td>0.2486516</td><td>2,3-dihydroxypropyl palmitate</td><td>O=C(OCC(O)CO)CCCCCCCCCCCCCCC                                </td></tr>\n",
       "\t<tr><th scope=row>CCMSLIB00006415084</th><td>0.244627</td><td>2,3-dihydroxypropyl palmitate</td><td>O=C(OCC(O)CO)CCCCCCCCCCCCCCC                                </td></tr>\n",
       "\t<tr><th scope=row>CCMSLIB00006415107</th><td>0.2409814</td><td>2,3-dihydroxypropyl palmitate</td><td>O=C(OCC(O)CO)CCCCCCCCCCCCCCC                                </td></tr>\n",
       "\t<tr><th scope=row>CCMSLIB00006492562</th><td>0.240757</td><td>Jolkinolide B                </td><td>O=C1OC23OC3C4C5(OC5C2=C1C)CCC6C(C)(C)CCCC64C                </td></tr>\n",
       "</tbody>\n",
       "</table>\n"
      ],
      "text/latex": [
       "A data.frame: 10 × 3\n",
       "\\begin{tabular}{r|lll}\n",
       "  & score & compound\\_name & smiles\\\\\n",
       "  & <list> & <chr> & <chr>\\\\\n",
       "\\hline\n",
       "\tCCMSLIB00004751476 & 0.3307738 & Thelephoric acid              & O=C(C1=C2C3=C(C=C(O)C(O)=C3)O1)C4=C(OC5=C4C=C(O)C(O)=C5)C2=O\\\\\n",
       "\tCCMSLIB00006415274 & 0.2610556 & 2,3-dihydroxypropyl palmitate & O=C(OCC(O)CO)CCCCCCCCCCCCCCC                                \\\\\n",
       "\tCCMSLIB00006415154 & 0.259576 & 2,3-dihydroxypropyl palmitate & O=C(OCC(O)CO)CCCCCCCCCCCCCCC                                \\\\\n",
       "\tCCMSLIB00006415037 & 0.2516562 & 2,3-dihydroxypropyl palmitate & O=C(OCC(O)CO)CCCCCCCCCCCCCCC                                \\\\\n",
       "\tCCMSLIB00006415250 & 0.251224 & 2,3-dihydroxypropyl palmitate & O=C(OCC(O)CO)CCCCCCCCCCCCCCC                                \\\\\n",
       "\tCCMSLIB00006415298 & 0.2501113 & 2,3-dihydroxypropyl palmitate & O=C(OCC(O)CO)CCCCCCCCCCCCCCC                                \\\\\n",
       "\tCCMSLIB00006415131 & 0.2486516 & 2,3-dihydroxypropyl palmitate & O=C(OCC(O)CO)CCCCCCCCCCCCCCC                                \\\\\n",
       "\tCCMSLIB00006415084 & 0.244627 & 2,3-dihydroxypropyl palmitate & O=C(OCC(O)CO)CCCCCCCCCCCCCCC                                \\\\\n",
       "\tCCMSLIB00006415107 & 0.2409814 & 2,3-dihydroxypropyl palmitate & O=C(OCC(O)CO)CCCCCCCCCCCCCCC                                \\\\\n",
       "\tCCMSLIB00006492562 & 0.240757 & Jolkinolide B                 & O=C1OC23OC3C4C5(OC5C2=C1C)CCC6C(C)(C)CCCC64C                \\\\\n",
       "\\end{tabular}\n"
      ],
      "text/markdown": [
       "\n",
       "A data.frame: 10 × 3\n",
       "\n",
       "| <!--/--> | score &lt;list&gt; | compound_name &lt;chr&gt; | smiles &lt;chr&gt; |\n",
       "|---|---|---|---|\n",
       "| CCMSLIB00004751476 | 0.3307738 | Thelephoric acid              | O=C(C1=C2C3=C(C=C(O)C(O)=C3)O1)C4=C(OC5=C4C=C(O)C(O)=C5)C2=O |\n",
       "| CCMSLIB00006415274 | 0.2610556 | 2,3-dihydroxypropyl palmitate | O=C(OCC(O)CO)CCCCCCCCCCCCCCC                                 |\n",
       "| CCMSLIB00006415154 | 0.259576 | 2,3-dihydroxypropyl palmitate | O=C(OCC(O)CO)CCCCCCCCCCCCCCC                                 |\n",
       "| CCMSLIB00006415037 | 0.2516562 | 2,3-dihydroxypropyl palmitate | O=C(OCC(O)CO)CCCCCCCCCCCCCCC                                 |\n",
       "| CCMSLIB00006415250 | 0.251224 | 2,3-dihydroxypropyl palmitate | O=C(OCC(O)CO)CCCCCCCCCCCCCCC                                 |\n",
       "| CCMSLIB00006415298 | 0.2501113 | 2,3-dihydroxypropyl palmitate | O=C(OCC(O)CO)CCCCCCCCCCCCCCC                                 |\n",
       "| CCMSLIB00006415131 | 0.2486516 | 2,3-dihydroxypropyl palmitate | O=C(OCC(O)CO)CCCCCCCCCCCCCCC                                 |\n",
       "| CCMSLIB00006415084 | 0.244627 | 2,3-dihydroxypropyl palmitate | O=C(OCC(O)CO)CCCCCCCCCCCCCCC                                 |\n",
       "| CCMSLIB00006415107 | 0.2409814 | 2,3-dihydroxypropyl palmitate | O=C(OCC(O)CO)CCCCCCCCCCCCCCC                                 |\n",
       "| CCMSLIB00006492562 | 0.240757 | Jolkinolide B                 | O=C1OC23OC3C4C5(OC5C2=C1C)CCC6C(C)(C)CCCC64C                 |\n",
       "\n"
      ],
      "text/plain": [
       "                   score     compound_name                \n",
       "CCMSLIB00004751476 0.3307738 Thelephoric acid             \n",
       "CCMSLIB00006415274 0.2610556 2,3-dihydroxypropyl palmitate\n",
       "CCMSLIB00006415154 0.259576  2,3-dihydroxypropyl palmitate\n",
       "CCMSLIB00006415037 0.2516562 2,3-dihydroxypropyl palmitate\n",
       "CCMSLIB00006415250 0.251224  2,3-dihydroxypropyl palmitate\n",
       "CCMSLIB00006415298 0.2501113 2,3-dihydroxypropyl palmitate\n",
       "CCMSLIB00006415131 0.2486516 2,3-dihydroxypropyl palmitate\n",
       "CCMSLIB00006415084 0.244627  2,3-dihydroxypropyl palmitate\n",
       "CCMSLIB00006415107 0.2409814 2,3-dihydroxypropyl palmitate\n",
       "CCMSLIB00006492562 0.240757  Jolkinolide B                \n",
       "                   smiles                                                      \n",
       "CCMSLIB00004751476 O=C(C1=C2C3=C(C=C(O)C(O)=C3)O1)C4=C(OC5=C4C=C(O)C(O)=C5)C2=O\n",
       "CCMSLIB00006415274 O=C(OCC(O)CO)CCCCCCCCCCCCCCC                                \n",
       "CCMSLIB00006415154 O=C(OCC(O)CO)CCCCCCCCCCCCCCC                                \n",
       "CCMSLIB00006415037 O=C(OCC(O)CO)CCCCCCCCCCCCCCC                                \n",
       "CCMSLIB00006415250 O=C(OCC(O)CO)CCCCCCCCCCCCCCC                                \n",
       "CCMSLIB00006415298 O=C(OCC(O)CO)CCCCCCCCCCCCCCC                                \n",
       "CCMSLIB00006415131 O=C(OCC(O)CO)CCCCCCCCCCCCCCC                                \n",
       "CCMSLIB00006415084 O=C(OCC(O)CO)CCCCCCCCCCCCCCC                                \n",
       "CCMSLIB00006415107 O=C(OCC(O)CO)CCCCCCCCCCCCCCC                                \n",
       "CCMSLIB00006492562 O=C1OC23OC3C4C5(OC5C2=C1C)CCC6C(C)(C)CCCC64C                "
      ]
     },
     "metadata": {},
     "output_type": "display_data"
    }
   ],
   "source": [
    "spectra_matches[[1]]"
   ]
  },
  {
   "cell_type": "markdown",
   "metadata": {},
   "source": [
    "# 3. Save results\n",
    "\n",
    "Execute the following cell to save the results in a CSV file. For readability, each dataframe is saved in its own CSV file under the `matches` directory."
   ]
  },
  {
   "cell_type": "code",
   "execution_count": 8,
   "metadata": {
    "scrolled": true
   },
   "outputs": [],
   "source": [
    "if (!dir.exists(\"matches\")){\n",
    "    dir.create(\"matches\")\n",
    "}\n",
    "for (i in seq_along(spectra_matches)){\n",
    "    matches <- data.frame(lapply(spectra_matches[i], as.character), stringsAsFactors=FALSE)\n",
    "    write.csv(matches, sprintf(\"matches/spectrum_%s.csv\", i))\n",
    "}"
   ]
  },
  {
   "cell_type": "markdown",
   "metadata": {},
   "source": [
    "\n",
    "___"
   ]
  }
 ],
 "metadata": {
  "kernelspec": {
   "display_name": "R",
   "language": "R",
   "name": "ir"
  },
  "language_info": {
   "codemirror_mode": "r",
   "file_extension": ".r",
   "mimetype": "text/x-r-source",
   "name": "R",
   "pygments_lexer": "r",
   "version": "4.1.0"
  }
 },
 "nbformat": 4,
 "nbformat_minor": 4
}
