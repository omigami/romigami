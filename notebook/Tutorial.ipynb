{
 "cells": [
  {
   "cell_type": "markdown",
   "metadata": {},
   "source": [
    "# Spec2Vec API – Quickstart\n",
    "\n",
    "*In order to use the client, you need an access token provided by DataRevenue.*\n",
    "## Introduction\n",
    "\n",
    "This is a short guide on you can add GNPS library matches to your mass spectra - using Omigami's Spec2Vec API.\n",
    "\n",
    "The API uses a Spec2Vec model that was trained on the entire GNPS spectral library. It embeds each of your spectra into a vector space and calculates the cosine similarity to all GNPS library spectra in this vector space. It then returns you the top library matches for each of your spectra. To learn more about Spec2Vec read our gentle introduction: [Spec2Vec: The Next Step in Mass Spectral Similarity Metrics](https://www.datarevenue.com/en-blog/spec2vec-mass-spectral-similarity-metric)\n",
    "\n",
    "This notebook shows you how \n",
    "1. Specify any MGF file\n",
    "2. Run a library search through the Spec2Vec API\n",
    "3. Save the results as CSV."
   ]
  },
  {
   "cell_type": "markdown",
   "metadata": {},
   "source": [
    "# 1. (Down)load a MS/MS dataset (MGF format)\n",
    "\n",
    "We'll use a small MS/MS dataset in the MGF format from [here](https://gnps-external.ucsd.edu/gnpslibrary/GNPS-COLLECTIONS-MISC.mgf).\n",
    "You can also select any other from the [GNPS spectral library](https://gnps-external.ucsd.edu/gnpslibrary), or - of course - use your own.\n",
    "\n",
    "*Note that you will need the Precursor_MZ field `PEPMASS` and the abundance pairs in your MGF file.*"
   ]
  },
  {
   "cell_type": "code",
   "execution_count": null,
   "metadata": {},
   "outputs": [],
   "source": [
    "# Load your own MS/MS dataset (and skip the next cell)\n",
    "path_to_mgf <- '/path/to/local_dataset.mgf'"
   ]
  },
  {
   "cell_type": "code",
   "execution_count": 6,
   "metadata": {},
   "outputs": [],
   "source": [
    "# OR download a small MS/MS dataset from GNPS, in the same directory as this notebook\n",
    "url = 'https://gnps-external.ucsd.edu/gnpslibrary/GNPS-COLLECTIONS-MISC.mgf'\n",
    "\n",
    "path_to_mgf = 'GNPS-COLLECTIONS-MISC.mgf' # use your prefered saving path here\n",
    "\n",
    "download.file(url, path_to_mgf, method = \"curl\")"
   ]
  },
  {
   "cell_type": "markdown",
   "metadata": {},
   "source": [
    "# 2. Query for the best matches with Spec2Vec\n",
    "\n",
    "`Romigami` is a R wrapper which instantiates a virtual environment on which to install and call the Python `Omigami` package\n",
    "\n",
    "`Omigami` is a Python wrapper which :\n",
    "- Builds a json payload from the MGF file\n",
    "- Calls the Spec2Vec API\n",
    "- Formats the prediction results into readable dataframes\n",
    "\n",
    "____\n",
    "- `n_best` sets the number of matches you'd like per spectrum (it is set to 10 by default).\n",
    "\n",
    "In the results dataframes, the input spectra can be identified by their number in the dataframes index, which refers to their order in the MGF file.  \n",
    "*i.e.* `matches of spectrum 1` gives the spectrum_id and Spec2Vec scores of the library spectra matches, for the first spectrum in the MGF file.\n",
    "\n",
    "For each spectrum in the MGF file, the library spectra matches are sorted according to their Spec2Vec similarity score (best is first).   \n",
    "The following information about the predicted spectra are returned :\n",
    "- `score`, the Spec2Vec similarity score between the input spectrum and the library spectrum\n",
    "- `matches of spectrum #`, the spectrum_ID of the matched library spectra for the spectrum number # in the MGF file"
   ]
  },
  {
   "cell_type": "code",
   "execution_count": 20,
   "metadata": {},
   "outputs": [
    {
     "name": "stderr",
     "output_type": "stream",
     "text": [
      "\n",
      "Attachement du package : ‘romigami’\n",
      "\n",
      "\n",
      "Les objets suivants sont masqués _par_ ‘.GlobalEnv’:\n",
      "\n",
      "    initialize_environment, match_spectra_from_path\n",
      "\n",
      "\n"
     ]
    }
   ],
   "source": [
    "# import the package\n",
    "library(\"romigami\")"
   ]
  },
  {
   "cell_type": "code",
   "execution_count": 21,
   "metadata": {},
   "outputs": [
    {
     "name": "stdout",
     "output_type": "stream",
     "text": [
      "virtualenv: Romigami\n",
      "Using virtual environment '/Users/pierre/.virtualenvs/Romigami' ...\n"
     ]
    }
   ],
   "source": [
    "# environment setup\n",
    "initialize_environment()"
   ]
  },
  {
   "cell_type": "code",
   "execution_count": 19,
   "metadata": {},
   "outputs": [
    {
     "ename": "ERROR",
     "evalue": "Error in py_call_impl(callable, dots$args, dots$keywords): InvalidCredentials: Your credentials are invalid, please revise your API token.\n\nDetailed traceback:\n  File \"/Users/pierre/.virtualenvs/Romigami/lib/python3.9/site-packages/omigami/spec2vec.py\", line 60, in match_spectra_from_path\n    requests.append(self._send_request(payload))\n  File \"/Users/pierre/.virtualenvs/Romigami/lib/python3.9/site-packages/omigami/spec2vec.py\", line 158, in _send_request\n    raise InvalidCredentials(\n\n",
     "output_type": "error",
     "traceback": [
      "Error in py_call_impl(callable, dots$args, dots$keywords): InvalidCredentials: Your credentials are invalid, please revise your API token.\n\nDetailed traceback:\n  File \"/Users/pierre/.virtualenvs/Romigami/lib/python3.9/site-packages/omigami/spec2vec.py\", line 60, in match_spectra_from_path\n    requests.append(self._send_request(payload))\n  File \"/Users/pierre/.virtualenvs/Romigami/lib/python3.9/site-packages/omigami/spec2vec.py\", line 158, in _send_request\n    raise InvalidCredentials(\n\nTraceback:\n",
      "1. match_spectra_from_path(token = \"\", mgf_path = path_to_mgf, n_best = 10)",
      "2. client$match_spectra_from_path(mgf_path = mgf_path, n_best = as.integer(n_best))",
      "3. py_call_impl(callable, dots$args, dots$keywords)"
     ]
    }
   ],
   "source": [
    "# Run Spec2Vec library search with your user token\n",
    "spectra_matches <- match_spectra_from_path(token = \"8DmWwNrFB8oSQcjHsEabHoNcUy30MZLY\",\n",
    "                        mgf_path = path_to_mgf,\n",
    "                        n_best = 10)"
   ]
  },
  {
   "cell_type": "markdown",
   "metadata": {},
   "source": [
    "## 2.1 View results\n",
    "A list of dataframes is returned. To look at a specific dataframe you can call :\n",
    "```python\n",
    "spectra_matches[i]  # 'i' refers to the ith spectrum in the MGF file input\n",
    "```"
   ]
  },
  {
   "cell_type": "code",
   "execution_count": 11,
   "metadata": {
    "scrolled": true
   },
   "outputs": [
    {
     "data": {
      "text/html": [
       "<ol>\n",
       "\t<li><table class=\"dataframe\">\n",
       "<caption>A data.frame: 10 × 1</caption>\n",
       "<thead>\n",
       "\t<tr><th></th><th scope=col>score</th></tr>\n",
       "\t<tr><th></th><th scope=col>&lt;dbl&gt;</th></tr>\n",
       "</thead>\n",
       "<tbody>\n",
       "\t<tr><th scope=row>CCMSLIB00006015264</th><td>0.2317165</td></tr>\n",
       "\t<tr><th scope=row>CCMSLIB00005914380</th><td>0.2210768</td></tr>\n",
       "\t<tr><th scope=row>CCMSLIB00006056045</th><td>0.1919893</td></tr>\n",
       "\t<tr><th scope=row>CCMSLIB00005914391</th><td>0.1896599</td></tr>\n",
       "\t<tr><th scope=row>CCMSLIB00005914553</th><td>0.1896599</td></tr>\n",
       "\t<tr><th scope=row>CCMSLIB00006015384</th><td>0.1830748</td></tr>\n",
       "\t<tr><th scope=row>CCMSLIB00005987253</th><td>0.1587133</td></tr>\n",
       "\t<tr><th scope=row>CCMSLIB00006056696</th><td>0.1577501</td></tr>\n",
       "\t<tr><th scope=row>CCMSLIB00006015008</th><td>0.1552923</td></tr>\n",
       "\t<tr><th scope=row>CCMSLIB00006056025</th><td>0.1535573</td></tr>\n",
       "</tbody>\n",
       "</table>\n",
       "</li>\n",
       "</ol>\n"
      ],
      "text/latex": [
       "\\begin{enumerate}\n",
       "\\item A data.frame: 10 × 1\n",
       "\\begin{tabular}{r|l}\n",
       "  & score\\\\\n",
       "  & <dbl>\\\\\n",
       "\\hline\n",
       "\tCCMSLIB00006015264 & 0.2317165\\\\\n",
       "\tCCMSLIB00005914380 & 0.2210768\\\\\n",
       "\tCCMSLIB00006056045 & 0.1919893\\\\\n",
       "\tCCMSLIB00005914391 & 0.1896599\\\\\n",
       "\tCCMSLIB00005914553 & 0.1896599\\\\\n",
       "\tCCMSLIB00006015384 & 0.1830748\\\\\n",
       "\tCCMSLIB00005987253 & 0.1587133\\\\\n",
       "\tCCMSLIB00006056696 & 0.1577501\\\\\n",
       "\tCCMSLIB00006015008 & 0.1552923\\\\\n",
       "\tCCMSLIB00006056025 & 0.1535573\\\\\n",
       "\\end{tabular}\n",
       "\n",
       "\\end{enumerate}\n"
      ],
      "text/markdown": [
       "1. \n",
       "A data.frame: 10 × 1\n",
       "\n",
       "| <!--/--> | score &lt;dbl&gt; |\n",
       "|---|---|\n",
       "| CCMSLIB00006015264 | 0.2317165 |\n",
       "| CCMSLIB00005914380 | 0.2210768 |\n",
       "| CCMSLIB00006056045 | 0.1919893 |\n",
       "| CCMSLIB00005914391 | 0.1896599 |\n",
       "| CCMSLIB00005914553 | 0.1896599 |\n",
       "| CCMSLIB00006015384 | 0.1830748 |\n",
       "| CCMSLIB00005987253 | 0.1587133 |\n",
       "| CCMSLIB00006056696 | 0.1577501 |\n",
       "| CCMSLIB00006015008 | 0.1552923 |\n",
       "| CCMSLIB00006056025 | 0.1535573 |\n",
       "\n",
       "\n",
       "\n",
       "\n"
      ],
      "text/plain": [
       "[[1]]\n",
       "                       score\n",
       "CCMSLIB00006015264 0.2317165\n",
       "CCMSLIB00005914380 0.2210768\n",
       "CCMSLIB00006056045 0.1919893\n",
       "CCMSLIB00005914391 0.1896599\n",
       "CCMSLIB00005914553 0.1896599\n",
       "CCMSLIB00006015384 0.1830748\n",
       "CCMSLIB00005987253 0.1587133\n",
       "CCMSLIB00006056696 0.1577501\n",
       "CCMSLIB00006015008 0.1552923\n",
       "CCMSLIB00006056025 0.1535573\n"
      ]
     },
     "metadata": {},
     "output_type": "display_data"
    }
   ],
   "source": [
    "spectra_matches[1]"
   ]
  },
  {
   "cell_type": "markdown",
   "metadata": {},
   "source": [
    "# 3. Save results\n",
    "\n",
    "Execute the following cell to save the results in a CSV file. For readability, each dataframe is saved in its own CSV file under the `matches` directory."
   ]
  },
  {
   "cell_type": "code",
   "execution_count": 18,
   "metadata": {
    "scrolled": true
   },
   "outputs": [],
   "source": [
    "if (!dir.exists(\"matches\")){\n",
    "    dir.create(\"matches\")\n",
    "}\n",
    "for (i in seq_along(spectra_matches)){\n",
    "    write.csv(spectra_matches[[i]],sprintf(\"matches/spectrum_%s.csv\",i))\n",
    "}"
   ]
  },
  {
   "cell_type": "markdown",
   "metadata": {},
   "source": [
    "\n",
    "___"
   ]
  }
 ],
 "metadata": {
  "kernelspec": {
   "display_name": "R",
   "language": "R",
   "name": "ir"
  },
  "language_info": {
   "codemirror_mode": "r",
   "file_extension": ".r",
   "mimetype": "text/x-r-source",
   "name": "R",
   "pygments_lexer": "r",
   "version": "4.1.0"
  }
 },
 "nbformat": 4,
 "nbformat_minor": 4
}
